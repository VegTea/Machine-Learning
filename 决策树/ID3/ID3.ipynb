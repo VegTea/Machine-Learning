{
 "cells": [
  {
   "cell_type": "code",
   "execution_count": 198,
   "metadata": {},
   "outputs": [],
   "source": [
    "from numpy import *\n",
    "from math import log2\n",
    "from pandas import read_csv\n",
    "import matplotlib.pyplot as plt"
   ]
  },
  {
   "cell_type": "code",
   "execution_count": 199,
   "metadata": {},
   "outputs": [
    {
     "data": {
      "image/png": "[encoded data removed]",
      "text/plain": [
       "<Figure size 432x288 with 1 Axes>"
      ]
     },
     "metadata": {
      "needs_background": "light"
     },
     "output_type": "display_data"
    },
    {
     "data": {
      "image/png": "[encoded data removed]",
      "text/plain": [
       "<Figure size 432x288 with 1 Axes>"
      ]
     },
     "metadata": {
      "needs_background": "light"
     },
     "output_type": "display_data"
    },
    {
     "name": "stdout",
     "output_type": "stream",
     "text": [
      "['Pclass', 'Sex', 'Age', 'SibSp', 'Parch', 'Fare', 'Embarked']\n",
      "[[3, 'male', 1, 1, 0, 0, 'S', 0], [1, 'female', 1, 1, 0, 1, 'C', 1], [3, 'female', 1, 0, 0, 0, 'S', 1], [1, 'female', 1, 1, 0, 1, 'S', 1], [3, 'male', 1, 0, 0, 0, 'S', 0]]\n"
     ]
    }
   ],
   "source": [
    "def getData(filename):\n",
    "    df = read_csv(filename, sep=',')\n",
    "    labels = df.columns.tolist()\n",
    "    labels = labels[:-1]\n",
    "    dataSet = df.to_numpy()\n",
    "\n",
    "    dataSet = [list(line) for line in dataSet]\n",
    "\n",
    "\n",
    "    for i in range(len(dataSet)):\n",
    "        if dataSet[i][2] <= 20:   dataSet[i][2] = 0\n",
    "        elif dataSet[i][2] <= 40: dataSet[i][2] = 1\n",
    "        elif dataSet[i][2] <= 60: dataSet[i][2] = 2\n",
    "        else:                     dataSet[i][2] = 3\n",
    "\n",
    "    for i in range(len(dataSet)):\n",
    "        if dataSet[i][5] <= 50:    dataSet[i][5] = 0\n",
    "        elif dataSet[i][5] <= 100: dataSet[i][5] = 1\n",
    "        elif dataSet[i][5] <= 300: dataSet[i][5] = 2\n",
    "        else:                      dataSet[i][5] = 3\n",
    "\n",
    "    plt.scatter([i for i in range(len(dataSet))], [val[2] for val in dataSet])\n",
    "    plt.show()\n",
    "\n",
    "    plt.scatter([i for i in range(len(dataSet))], [val[5] for val in dataSet])\n",
    "    plt.show()\n",
    "\n",
    "    return dataSet, labels\n",
    "        \n",
    "\n",
    "\n",
    "dataSet, labels = getData('Titanic_new.csv')\n",
    "print(labels, end = '\\n')\n",
    "print(dataSet[:5])"
   ]
  },
  {
   "cell_type": "code",
   "execution_count": 200,
   "metadata": {},
   "outputs": [],
   "source": [
    "def calcEnt(dataSet):\n",
    "    n = len(dataSet)\n",
    "    labelCounts = {}\n",
    "    for featVec in dataSet: # m 维向量，最后一维是数据类型，前m-1维是feature\n",
    "        label = featVec[-1]\n",
    "        if label not in labelCounts.keys():\n",
    "            labelCounts[label] = 0\n",
    "        labelCounts[label] += 1\n",
    "    Ent = 0\n",
    "    for key in labelCounts:\n",
    "        p = labelCounts[key] / n\n",
    "        Ent -= p * log2(p)\n",
    "    return Ent"
   ]
  },
  {
   "cell_type": "code",
   "execution_count": 201,
   "metadata": {},
   "outputs": [],
   "source": [
    "def split(dataSet, pos, value):\n",
    "    newDataSet = []\n",
    "    for featVec in dataSet:\n",
    "        if featVec[pos] == value:\n",
    "            tmp = featVec[:pos]\n",
    "            tmp.extend(featVec[pos+1:])\n",
    "            newDataSet.append(tmp)\n",
    "    return newDataSet"
   ]
  },
  {
   "cell_type": "code",
   "execution_count": 202,
   "metadata": {},
   "outputs": [],
   "source": [
    "def BestFeature(dataSet):\n",
    "    n = len(dataSet)\n",
    "    m = len(dataSet[0]) - 1\n",
    "    preEnt = calcEnt(dataSet)\n",
    "    maxGain = -1; bestFeature = -1\n",
    "    for i in range(m):\n",
    "        valueList = [sample[i] for sample in dataSet]\n",
    "        uniqueValues = set(valueList)\n",
    "        newEnt = 0\n",
    "        for value in uniqueValues:\n",
    "            subDataSet = split(dataSet, i, value)\n",
    "            p = len(subDataSet) / n\n",
    "            newEnt += p * calcEnt(subDataSet)\n",
    "        newGain = preEnt - newEnt\n",
    "        if newGain > maxGain:\n",
    "            maxGain = newGain\n",
    "            bestFeature = i\n",
    "    return bestFeature"
   ]
  },
  {
   "cell_type": "code",
   "execution_count": 203,
   "metadata": {},
   "outputs": [],
   "source": [
    "def getMainType(classList):\n",
    "    classCount = {}\n",
    "    for val in classList:\n",
    "        if val not in classCount:\n",
    "            classCount[val] = 0\n",
    "        classCount[val] += 1\n",
    "    sortedClassCount = sorted(classCount.items(), key=lambda x:x[1], reverse=True)\n",
    "    return sortedClassCount[0][0]"
   ]
  },
  {
   "cell_type": "code",
   "execution_count": 204,
   "metadata": {},
   "outputs": [],
   "source": [
    "def buildTree(dataSet, labels):\n",
    "    classList = [sample[-1] for sample in dataSet] # 每一个数据的类型（结果）\n",
    "    if classList.count(classList[0]) == len(dataSet): # 如果全部都是一种类型，则返回该类型\n",
    "        return classList[0]\n",
    "    if len(dataSet[0]) == 1: # 如果没有feature了，那么直接返回类型较多的那一个类型\n",
    "        return getMainType(classList)\n",
    "    bestFeature = BestFeature(dataSet) # bestFeature 是下标\n",
    "    bestFeatureLabel = labels[bestFeature]\n",
    "    Tree = {bestFeatureLabel:{}, \"mainType\":getMainType(classList)}\n",
    "    valueList = [sample[bestFeature] for sample in dataSet]\n",
    "    uniqueValues = set(valueList)\n",
    "    for val in uniqueValues:\n",
    "        subLabels = labels[:]\n",
    "        del(subLabels[bestFeature])\n",
    "        Tree[bestFeatureLabel][val] = buildTree(split(dataSet, bestFeature, val), subLabels)\n",
    "    return Tree\n",
    "Tree = buildTree(dataSet, labels)"
   ]
  },
  {
   "cell_type": "code",
   "execution_count": 205,
   "metadata": {},
   "outputs": [],
   "source": [
    "# treePlotter.py是偷过来的代码来画树的样子的\n",
    "#from treePlotter import *\n",
    "#createPlot(Tree)\n",
    "#print(Tree)"
   ]
  },
  {
   "cell_type": "code",
   "execution_count": 206,
   "metadata": {},
   "outputs": [],
   "source": [
    "def predict(Tree, labels, features):\n",
    "#def classify(inputTree,featLabels,testVec):\n",
    "    feat = list(Tree.keys())[0]\n",
    "    branch = Tree[feat]\n",
    "    pos = labels.index(feat)\n",
    "    key = features[pos]\n",
    "    if key not in branch:\n",
    "        return Tree[\"mainType\"]\n",
    "    if isinstance(branch[key], dict): \n",
    "        classLabel = predict(branch[key], labels, features)\n",
    "    else: classLabel = branch[key]\n",
    "    return classLabel"
   ]
  },
  {
   "cell_type": "code",
   "execution_count": 207,
   "metadata": {},
   "outputs": [],
   "source": [
    "import pickle\n",
    "def storeTree(Tree, filename):\n",
    "    fw = open(filename, 'wb')\n",
    "    pickle.dump(Tree, fw)\n",
    "    fw.close()\n",
    "def grabTree(filename):\n",
    "    fr = open(filename, 'rb')\n",
    "    return pickle.load(fr)\n",
    "storeTree(Tree, 'TitanicTree')\n",
    "#print(grabTree('fishTree'))"
   ]
  },
  {
   "cell_type": "code",
   "execution_count": 208,
   "metadata": {},
   "outputs": [],
   "source": [
    "def Solve(filename):\n",
    "    import pandas as pd\n",
    "    df = read_csv(filename, sep=',')\n",
    "    df['Age'].fillna(df['Age'].mean(), inplace = True)\n",
    "    df['Fare'].fillna(df['Fare'].mean(), inplace = True)\n",
    "    fw = df['PassengerId']\n",
    "    df = df.drop(['PassengerId'], axis=1)\n",
    "\n",
    "    labels = df.columns.tolist()\n",
    "    dataSet = df.to_numpy()\n",
    "\n",
    "    dataSet = [list(line) for line in dataSet]\n",
    "\n",
    "\n",
    "    for i in range(len(dataSet)):\n",
    "        if dataSet[i][2] <= 20:   dataSet[i][2] = 0\n",
    "        elif dataSet[i][2] <= 40: dataSet[i][2] = 1\n",
    "        elif dataSet[i][2] <= 60: dataSet[i][2] = 2\n",
    "        else:                     dataSet[i][2] = 3\n",
    "\n",
    "    for i in range(len(dataSet)):\n",
    "        if dataSet[i][5] <= 50:   dataSet[i][5] = 0\n",
    "        elif dataSet[i][5] <= 100: dataSet[i][5] = 1\n",
    "        elif dataSet[i][5] <= 300: dataSet[i][5] = 2\n",
    "        else:                     dataSet[i][5] = 3\n",
    "\n",
    "    #plt.scatter([i for i in range(len(dataSet))], [val[2] for val in dataSet])\n",
    "    #plt.show()\n",
    "\n",
    "    #plt.scatter([i for i in range(len(dataSet))], [val[5] for val in dataSet])\n",
    "    #plt.show()\n",
    "\n",
    "    data = [[fw[i], 0] for i in range(len(fw))]\n",
    "    for i in range(len(dataSet)):\n",
    "        data[i][1] = predict(Tree, labels, dataSet[i])\n",
    "    fw = pd.DataFrame(data, columns=['PassengerId', 'Survived'])\n",
    "    fw.to_csv('submission.csv', index=False)\n",
    "\n",
    "Solve('test.csv')"
   ]
  }
 ],
 "metadata": {
  "interpreter": {
   "hash": "73e03da126b73bfff3642ec5261d56fa25c444ea595de51041687efaa60dda41"
  },
  "kernelspec": {
   "display_name": "Python 3.8.8 64-bit ('base': conda)",
   "name": "python3"
  },
  "language_info": {
   "codemirror_mode": {
    "name": "ipython",
    "version": 3
   },
   "file_extension": ".py",
   "mimetype": "text/x-python",
   "name": "python",
   "nbconvert_exporter": "python",
   "pygments_lexer": "ipython3",
   "version": "3.8.8"
  },
  "orig_nbformat": 4
 },
 "nbformat": 4,
 "nbformat_minor": 2
}
