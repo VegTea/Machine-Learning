{
 "cells": [
  {
   "cell_type": "code",
   "execution_count": 128,
   "metadata": {},
   "outputs": [],
   "source": [
    "from numpy import *\n",
    "from math import log2\n",
    "from pandas import *"
   ]
  },
  {
   "cell_type": "code",
   "execution_count": 129,
   "metadata": {},
   "outputs": [],
   "source": [
    "class Node:\n",
    "    def __init__(self, value=None, LeftBranch=None, RightBranch=None, results=None, col=-1, summary=None, data=None):\n",
    "        self.value = value\n",
    "        self.LeftBranch = LeftBranch\n",
    "        self.RightBranch = RightBranch\n",
    "        self.results = results\n",
    "        self.col = col\n",
    "        self.summary = summary\n",
    "        self.data = data\n",
    "    def print(self):\n",
    "        print(\"value: \", self.value)\n",
    "        print(\"LeftBrach: \", self.LeftBranch)\n",
    "        print(\"RightBranch: \", self.RightBranch)\n",
    "        print(\"results: \", self.results)\n",
    "        print(\"col: \", self.col)\n",
    "        print(\"summary: \", self.summary)\n",
    "        print(\"data: \", self.data)\n"
   ]
  },
  {
   "cell_type": "code",
   "execution_count": 130,
   "metadata": {},
   "outputs": [],
   "source": [
    "def loadData(filename):\n",
    "    df = read_csv(filename)\n",
    "    dataMat = mat(df)\n",
    "    dataList = []\n",
    "    for i in range(dataMat.shape[0]):\n",
    "        dataList.append(dataMat[i].tolist()[0])\n",
    "    return dataList\n",
    "dataList = [\n",
    "    [1, 1, 'yes'],\n",
    "    [1, 1, 'yes'],\n",
    "    [1, 0, 'no'],\n",
    "    [0, 1, 'no'],\n",
    "    [0, 1, 'no']\n",
    "]\n",
    "dataList = loadData('Titanic_new.csv')"
   ]
  },
  {
   "cell_type": "code",
   "execution_count": 131,
   "metadata": {},
   "outputs": [],
   "source": [
    "def calcCount(datas):\n",
    "    # 将输入的数据汇总(input dataSet)\n",
    "    results = {}\n",
    "    for data in datas:\n",
    "        # data[-1] means dataType\n",
    "        if data[-1] not in results:\n",
    "            results[data[-1]] = 1\n",
    "        else:\n",
    "            results[data[-1]] += 1\n",
    "    return results"
   ]
  },
  {
   "cell_type": "code",
   "execution_count": 132,
   "metadata": {},
   "outputs": [],
   "source": [
    "def gini(List):\n",
    "    length = len(List)\n",
    "    results = calcCount(List)\n",
    "    imp = 0.0\n",
    "    for i in results:\n",
    "        imp += (results[i] / length) ** 2\n",
    "    return 1 - imp"
   ]
  },
  {
   "cell_type": "code",
   "execution_count": 133,
   "metadata": {},
   "outputs": [],
   "source": [
    "def splitDatas(rows, value, column):\n",
    "    # 根据条件分离数据集(splitDatas by value,column)\n",
    "    list1 = []\n",
    "    list2 = []\n",
    "    if isinstance(value, float):  # for float type\n",
    "        for row in rows:\n",
    "            if (row[column] <= value):\n",
    "                list1.append(row)\n",
    "            else:\n",
    "                list2.append(row)\n",
    "    else:  # for String type or int\n",
    "        for row in rows:\n",
    "            if row[column] == value:\n",
    "                list1.append(row)\n",
    "            else:\n",
    "                list2.append(row)\n",
    "\n",
    "    return (list1, list2)"
   ]
  },
  {
   "cell_type": "code",
   "execution_count": 134,
   "metadata": {},
   "outputs": [],
   "source": [
    "def build(rows, minLen = 3):\n",
    "    # 递归建立决策树,当gain < 0 时停止递归\n",
    "    currentGain = gini(rows)\n",
    "    column_length = len(rows[0])\n",
    "    rows_length = len(rows)\n",
    "    # 预剪枝\n",
    "    # if rows_length < minLen or column_length <= 1: return calcCount(rows) \n",
    "    best_gain = 0.0; best_value = None; best_set = None\n",
    "\n",
    "    # choose the best gain\n",
    "    col = random.random_integers(0, column_length - 2)\n",
    "    col_value_set = set([x[col] for x in rows])\n",
    "    for value in col_value_set:\n",
    "        list1, list2 = splitDatas(rows, value, col)\n",
    "        p = len(list1) / rows_length\n",
    "        gain = currentGain - p * gini(list1) - (1 - p) * gini(list2)\n",
    "        if gain > best_gain:\n",
    "            best_gain = gain\n",
    "            best_value = (col, value)\n",
    "            best_set = (list1, list2)\n",
    "\n",
    "    dcY = {'impurity': currentGain, 'samples': rows_length}\n",
    "\n",
    "    # stop or not stop\n",
    "    if best_gain > 0:\n",
    "        LeftBranch = build(best_set[0])\n",
    "        RightBranch = build(best_set[1])\n",
    "        return Node(col=best_value[0], value=best_value[1], LeftBranch=LeftBranch, RightBranch=RightBranch, summary=dcY)\n",
    "    else: # 预剪枝\n",
    "        return Node(results=calcCount(rows), summary=dcY, data=rows)"
   ]
  },
  {
   "cell_type": "code",
   "execution_count": 124,
   "metadata": {},
   "outputs": [
    {
     "name": "stderr",
     "output_type": "stream",
     "text": [
      "<ipython-input-123-7fd7168d16e4>:11: DeprecationWarning: This function is deprecated. Please call randint(0, 6 + 1) instead\n",
      "  col = random.random_integers(0, column_length - 2)\n"
     ]
    }
   ],
   "source": [
    "Trees = []\n",
    "def BuildRandomForest(datas, times=1000, alpha = 0.5):\n",
    "    n = len(datas)\n",
    "    N = int(alpha * n)\n",
    "    for t in range(times):\n",
    "        RandIndex = random.randint(n, size=N)\n",
    "        Data = [datas[i] for i in RandIndex]\n",
    "        Trees.append(build(Data))\n",
    "BuildRandomForest(dataList)"
   ]
  },
  {
   "cell_type": "code",
   "execution_count": 125,
   "metadata": {},
   "outputs": [],
   "source": [
    "def classify(data, tree):\n",
    "    if tree.results != None:\n",
    "        return tree.results\n",
    "    else:\n",
    "        branch = None\n",
    "        v = data[tree.col]\n",
    "        if isinstance(v, float):\n",
    "            if v <= tree.value:\n",
    "                branch = tree.LeftBranch\n",
    "            else:\n",
    "                branch = tree.RightBranch\n",
    "        else:\n",
    "            if v == tree.value:\n",
    "                branch = tree.LeftBranch\n",
    "            else:\n",
    "                branch = tree.RightBranch\n",
    "        return classify(data, branch)"
   ]
  },
  {
   "cell_type": "code",
   "execution_count": 126,
   "metadata": {},
   "outputs": [],
   "source": [
    "def prune(tree, miniGain, evaluationFunction=gini):\n",
    "    # 剪枝, when gain < mini Gain，合并(merge the LeftBranch and the RightBranch)\n",
    "\n",
    "    if tree.LeftBranch.results == None: prune(tree.LeftBranch, miniGain, evaluationFunction)\n",
    "    if tree.RightBranch.results == None: prune(tree.RightBranch, miniGain, evaluationFunction)\n",
    "\n",
    "    if tree.LeftBranch.results != None and tree.RightBranch.results != None:\n",
    "        len1 = len(tree.LeftBranch.data)\n",
    "        len2 = len(tree.RightBranch.data)\n",
    "        len3 = len(tree.LeftBranch.data + tree.RightBranch.data)\n",
    "        p = float(len1) / (len1 + len2)\n",
    "        gain = gini(tree.LeftBranch.data + tree.RightBranch.data) - p * gini(tree.LeftBranch.data) - (1 - p) * gini(tree.RightBranch.data)\n",
    "        if (gain < tree):\n",
    "            tree.data = tree.LeftBranch.data + tree.RightBranch.data\n",
    "            tree.results = calcCount(tree.data)\n",
    "            tree.LeftBranch = None\n",
    "            tree.RightBranch = None"
   ]
  },
  {
   "cell_type": "code",
   "execution_count": 127,
   "metadata": {},
   "outputs": [],
   "source": [
    "import pandas as pd\n",
    "df = read_csv('test.csv')\n",
    "df['Age'].fillna(df['Age'].mean(), inplace = True)\n",
    "df['Fare'].fillna(df['Fare'].mean(), inplace = True)\n",
    "fw = df['PassengerId']\n",
    "df = df.drop(['PassengerId'], axis=1)\n",
    "n = len(df)\n",
    "train = []\n",
    "for j in range(n):\n",
    "    L = []\n",
    "    for i in range(7):\n",
    "        L.append(df.iloc[j, i])\n",
    "    train.append(L)\n",
    "ans = []\n",
    "for i in range(n):\n",
    "    predicts = {}\n",
    "    for T in Trees:\n",
    "        result = classify(train[i], T)\n",
    "        if result == None: assert(0)\n",
    "        sortedResult = sorted(result.items(), key=lambda x:x[1], reverse=True)\n",
    "        if sortedResult[0][0] not in predicts:\n",
    "            predicts[sortedResult[0][0]] = 0\n",
    "        predicts[sortedResult[0][0]] += 1\n",
    "    predicts = sorted(predicts.items(), key=lambda x:x[1], reverse=True)\n",
    "    ans.append(predicts[0][0])\n",
    "\n",
    "data = [[fw[i], ans[i]] for i in range(n)]\n",
    "fw = pd.DataFrame(data, columns=['PassengerId', 'Survived'])\n",
    "fw.to_csv('submission.csv', index=False)\n"
   ]
  }
 ],
 "metadata": {
  "interpreter": {
   "hash": "73e03da126b73bfff3642ec5261d56fa25c444ea595de51041687efaa60dda41"
  },
  "kernelspec": {
   "display_name": "Python 3.8.8 64-bit ('base': conda)",
   "name": "python3"
  },
  "language_info": {
   "codemirror_mode": {
    "name": "ipython",
    "version": 3
   },
   "file_extension": ".py",
   "mimetype": "text/x-python",
   "name": "python",
   "nbconvert_exporter": "python",
   "pygments_lexer": "ipython3",
   "version": "3.8.8"
  },
  "orig_nbformat": 4
 },
 "nbformat": 4,
 "nbformat_minor": 2
}
