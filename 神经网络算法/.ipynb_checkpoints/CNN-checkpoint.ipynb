{
 "cells": [
  {
   "cell_type": "code",
   "execution_count": 4,
   "metadata": {},
   "outputs": [],
   "source": [
    "import numpy as np"
   ]
  },
  {
   "cell_type": "code",
   "execution_count": 6,
   "metadata": {},
   "outputs": [],
   "source": [
    "def sigmoid(x):\n",
    "    return 1 / (1 + np.exp(-x))\n",
    "\n",
    "# sigmoid 函数求导\n",
    "def sigmoid_derivative(x):\n",
    "    return sigmoid(x) * (1 - sigmoid(x))"
   ]
  },
  {
   "cell_type": "code",
   "execution_count": 7,
   "metadata": {},
   "outputs": [],
   "source": [
    "# 示例神经网络完整实现\n",
    "class NeuralNetwork:\n",
    "\n",
    "    # 初始化参数\n",
    "    def __init__(self, X, y, lr):\n",
    "        self.input_layer = X\n",
    "        self.W1 = np.random.rand(self.input_layer.shape[1], 3) # 注意形状\n",
    "        self.W2 = np.random.rand(3, 1)\n",
    "        self.y = y\n",
    "        self.lr = lr\n",
    "        self.output_layer = np.zeros(self.y.shape)\n",
    "\n",
    "    # 前向传播\n",
    "    def forward(self):\n",
    "\n",
    "        # 实现公式 2，3\n",
    "        self.hidden_layer = sigmoid(np.dot(self.input_layer, self.W1))\n",
    "        self.output_layer = sigmoid(np.dot(self.hidden_layer, self.W2))\n",
    "\n",
    "    # 反向传播\n",
    "    def backward(self):\n",
    "\n",
    "        # 实现公式 5\n",
    "        d_W2 = np.dot(self.hidden_layer.T, (2 * (self.output_layer - self.y) *\n",
    "                      sigmoid_derivative(np.dot(self.hidden_layer, self.W2))))\n",
    "\n",
    "        # 实现公式 6\n",
    "        d_W1 = np.dot(self.input_layer.T, (\n",
    "               np.dot(2 * (self.output_layer - self.y) * sigmoid_derivative(\n",
    "               np.dot(self.hidden_layer, self.W2)), self.W2.T) * sigmoid_derivative(\n",
    "               np.dot(self.input_layer, self.W1))))\n",
    "\n",
    "        # 参数更新，实现公式 7\n",
    "        # 因上方是 output_layer - y，此处为 -= 以保证符号一致\n",
    "        self.W1 -= self.lr * d_W1\n",
    "        self.W2 -= self.lr * d_W2"
   ]
  },
  {
   "cell_type": "code",
   "execution_count": 8,
   "metadata": {},
   "outputs": [
    {
     "name": "stdout",
     "output_type": "stream",
     "text": [
      "final loss: 0.012088780751130663\n"
     ]
    },
    {
     "data": {
      "text/plain": [
       "[<matplotlib.lines.Line2D at 0x14a015d3370>]"
      ]
     },
     "execution_count": 8,
     "metadata": {},
     "output_type": "execute_result"
    },
    {
     "data": {
      "image/png": "[encoded data removed]",
      "text/plain": [
       "<Figure size 432x288 with 1 Axes>"
      ]
     },
     "metadata": {
      "needs_background": "light"
     },
     "output_type": "display_data"
    }
   ],
   "source": [
    "import numpy as np\n",
    "from matplotlib import pyplot as plt\n",
    "\n",
    "# 测试数据\n",
    "X = np.array([\n",
    "    [1, 0],\n",
    "    [0, 1],\n",
    "    [1, 0],\n",
    "    [1, 1],\n",
    "])\n",
    "\n",
    "y = np.array([[0], [1], [0], [1]])\n",
    "\n",
    "nn = NeuralNetwork(X, y, lr=0.1) # 定义模型\n",
    "loss_list = [] # 存放损失数值变化\n",
    "\n",
    "for i in range(1000):\n",
    "    nn.forward() # 前向传播\n",
    "    nn.backward() # 反向传播\n",
    "    loss = np.sum((y - nn.output_layer) ** 2) # 计算平方损失\n",
    "    loss_list.append(loss)\n",
    "\n",
    "print(\"final loss:\", loss)\n",
    "plt.plot(loss_list) # 绘制 loss 曲线变化图"
   ]
  },
  {
   "cell_type": "code",
   "execution_count": null,
   "metadata": {},
   "outputs": [],
   "source": []
  }
 ],
 "metadata": {
  "celltoolbar": "无",
  "interpreter": {
   "hash": "73e03da126b73bfff3642ec5261d56fa25c444ea595de51041687efaa60dda41"
  },
  "kernelspec": {
   "display_name": "Python 3",
   "language": "python",
   "name": "python3"
  },
  "language_info": {
   "codemirror_mode": {
    "name": "ipython",
    "version": 3
   },
   "file_extension": ".py",
   "mimetype": "text/x-python",
   "name": "python",
   "nbconvert_exporter": "python",
   "pygments_lexer": "ipython3",
   "version": "3.8.8"
  }
 },
 "nbformat": 4,
 "nbformat_minor": 2
}
