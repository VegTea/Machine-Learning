{
 "cells": [
  {
   "cell_type": "code",
   "execution_count": 26,
   "metadata": {},
   "outputs": [],
   "source": [
    "import pandas as pd\n",
    "import numpy as np"
   ]
  },
  {
   "cell_type": "code",
   "execution_count": 27,
   "metadata": {},
   "outputs": [],
   "source": [
    "def Draw(X, Label, k = 0, b = 0):\n",
    "    import matplotlib.pyplot as plt\n",
    "    X1 = []\n",
    "    X2 = []\n",
    "    X3 = []\n",
    "    X4 = []\n",
    "    for i in range(X.shape[0]):\n",
    "        if Label[i] == 0:\n",
    "            X1.append(X[i, 1])\n",
    "            X2.append(X[i, 2])\n",
    "        else:\n",
    "            X3.append(X[i, 1])\n",
    "            X4.append(X[i, 2])\n",
    "    point_0 = [np.array(X1), np.array(X2)]\n",
    "    point_1 = [np.array(X3), np.array(X4)]\n",
    "    plt.scatter(point_0[0], point_0[1], c=\"red\")\n",
    "    plt.scatter(point_1[0], point_1[1], c=\"blue\")\n",
    "    nums = np.arange(np.min(X[...,1])-1, np.max(X[...,1])+1)\n",
    "    plt.plot(nums, k * nums + b)\n",
    "    plt.show()"
   ]
  },
  {
   "cell_type": "code",
   "execution_count": 28,
   "metadata": {},
   "outputs": [],
   "source": [
    "def readin(filename):\n",
    "    fo = open(filename, 'r')\n",
    "    X = []\n",
    "    Label = []\n",
    "    for line in fo.readlines():\n",
    "        line = line.strip().split(',')\n",
    "        X.append([1, float(line[0]), float(line[1])])\n",
    "        Label.append([int(line[2])])\n",
    "    X = np.mat(X)\n",
    "    Label = np.mat(Label)\n",
    "    fo.close()\n",
    "    return X, Label"
   ]
  },
  {
   "cell_type": "code",
   "execution_count": 61,
   "metadata": {},
   "outputs": [],
   "source": [
    "def LG(X, Label, alpha = 0.001, times = 10100):\n",
    "    import random\n",
    "    x1_min = np.min(X[...,1]); x1_max = np.max(X[...,1])\n",
    "    x2_min = np.min(X[...,2]); x2_max = np.max(X[...,2])\n",
    "    w2 = 1\n",
    "    w1 = (x2_max - x2_min) / (x1_max - x1_min)\n",
    "    w0 = -x2_max - w1 * x1_min\n",
    "    W = [w0, w1, w2]\n",
    "    W = np.mat(W).T\n",
    "    for i in range(times): \n",
    "        if i % 100 == 0:\n",
    "            print(\"times: \", i)\n",
    "        index = [x for x in range(X.shape[0])]\n",
    "        for j in range(X.shape[0]):\n",
    "            alpha = 1 / (1.0 + j + i) + 0.01               # 学习率调整\n",
    "            rand = int(random.uniform(0, len(index)))      # 随机挑一个样本点下降\n",
    "            H = 1 / (np.exp(-X[rand] * W) + 1)\n",
    "            dC = X[rand].T * (H - Label[rand])\n",
    "            W -= alpha * dC\n",
    "            del(index[rand])\n",
    "    return W"
   ]
  },
  {
   "cell_type": "code",
   "execution_count": 62,
   "metadata": {},
   "outputs": [
    {
     "name": "stdout",
     "output_type": "stream",
     "text": [
      "times:  0\n"
     ]
    },
    {
     "name": "stderr",
     "output_type": "stream",
     "text": [
      "<ipython-input-61-273746b0a284>:17: RuntimeWarning: overflow encountered in exp\n",
      "  H = 1 / (np.exp(-X[rand] * W) + 1)\n"
     ]
    },
    {
     "name": "stdout",
     "output_type": "stream",
     "text": [
      "times:  100\n",
      "times:  200\n",
      "times:  300\n",
      "times:  400\n",
      "times:  500\n",
      "times:  600\n",
      "times:  700\n",
      "times:  800\n",
      "times:  900\n",
      "times:  1000\n",
      "times:  1100\n",
      "times:  1200\n",
      "times:  1300\n",
      "times:  1400\n",
      "times:  1500\n",
      "times:  1600\n",
      "times:  1700\n",
      "times:  1800\n",
      "times:  1900\n",
      "times:  2000\n",
      "times:  2100\n",
      "times:  2200\n",
      "times:  2300\n",
      "times:  2400\n",
      "times:  2500\n",
      "times:  2600\n",
      "times:  2700\n",
      "times:  2800\n",
      "times:  2900\n",
      "times:  3000\n",
      "times:  3100\n",
      "times:  3200\n",
      "times:  3300\n",
      "times:  3400\n",
      "times:  3500\n",
      "times:  3600\n",
      "times:  3700\n",
      "times:  3800\n",
      "times:  3900\n",
      "times:  4000\n",
      "times:  4100\n",
      "times:  4200\n",
      "times:  4300\n",
      "times:  4400\n",
      "times:  4500\n",
      "times:  4600\n",
      "times:  4700\n",
      "times:  4800\n",
      "times:  4900\n",
      "times:  5000\n",
      "times:  5100\n",
      "times:  5200\n",
      "times:  5300\n",
      "times:  5400\n",
      "times:  5500\n",
      "times:  5600\n",
      "times:  5700\n",
      "times:  5800\n",
      "times:  5900\n",
      "times:  6000\n",
      "times:  6100\n",
      "times:  6200\n",
      "times:  6300\n",
      "times:  6400\n",
      "times:  6500\n",
      "times:  6600\n",
      "times:  6700\n",
      "times:  6800\n",
      "times:  6900\n",
      "times:  7000\n",
      "times:  7100\n",
      "times:  7200\n",
      "times:  7300\n",
      "times:  7400\n",
      "times:  7500\n",
      "times:  7600\n",
      "times:  7700\n",
      "times:  7800\n",
      "times:  7900\n",
      "times:  8000\n",
      "times:  8100\n",
      "times:  8200\n",
      "times:  8300\n",
      "times:  8400\n",
      "times:  8500\n",
      "times:  8600\n",
      "times:  8700\n",
      "times:  8800\n",
      "times:  8900\n",
      "times:  9000\n",
      "times:  9100\n",
      "times:  9200\n",
      "times:  9300\n",
      "times:  9400\n",
      "times:  9500\n",
      "times:  9600\n",
      "times:  9700\n",
      "times:  9800\n",
      "times:  9900\n",
      "times:  10000\n"
     ]
    },
    {
     "data": {
      "image/png": "[encoded data removed]",
      "text/plain": [
       "<Figure size 432x288 with 1 Axes>"
      ]
     },
     "metadata": {
      "needs_background": "light"
     },
     "output_type": "display_data"
    }
   ],
   "source": [
    "X, Label = readin('data.txt')\n",
    "W = LG(X, Label).T\n",
    "Draw(X, Label, (-W[0, 1] / W[0, 2]), (-W[0, 0] / W[0, 2]))"
   ]
  }
 ],
 "metadata": {
  "interpreter": {
   "hash": "73e03da126b73bfff3642ec5261d56fa25c444ea595de51041687efaa60dda41"
  },
  "kernelspec": {
   "display_name": "Python 3",
   "language": "python",
   "name": "python3"
  },
  "language_info": {
   "codemirror_mode": {
    "name": "ipython",
    "version": 3
   },
   "file_extension": ".py",
   "mimetype": "text/x-python",
   "name": "python",
   "nbconvert_exporter": "python",
   "pygments_lexer": "ipython3",
   "version": "3.8.8"
  }
 },
 "nbformat": 4,
 "nbformat_minor": 2
}
